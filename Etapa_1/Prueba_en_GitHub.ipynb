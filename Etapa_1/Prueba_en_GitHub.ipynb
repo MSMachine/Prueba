{
  "nbformat": 4,
  "nbformat_minor": 0,
  "metadata": {
    "colab": {
      "provenance": [],
      "toc_visible": true,
      "authorship_tag": "ABX9TyMmzRjryQ1/ZS+ERbSEis/1",
      "include_colab_link": true
    },
    "kernelspec": {
      "name": "python3",
      "display_name": "Python 3"
    },
    "language_info": {
      "name": "python"
    }
  },
  "cells": [
    {
      "cell_type": "markdown",
      "metadata": {
        "id": "view-in-github",
        "colab_type": "text"
      },
      "source": [
        "<a href=\"https://colab.research.google.com/github/MSMachine/Prueba/blob/main/Etapa_1/Prueba_en_GitHub.ipynb\" target=\"_parent\"><img src=\"https://colab.research.google.com/assets/colab-badge.svg\" alt=\"Open In Colab\"/></a>"
      ]
    },
    {
      "cell_type": "markdown",
      "source": [
        "# Introducción"
      ],
      "metadata": {
        "id": "BJhi_uxLvfc9"
      }
    },
    {
      "cell_type": "code",
      "source": [
        "# Vamos a probar"
      ],
      "metadata": {
        "id": "ax3i7jpfu0F7"
      },
      "execution_count": null,
      "outputs": []
    },
    {
      "cell_type": "code",
      "source": [
        "# La prueba fue exitosa"
      ],
      "metadata": {
        "id": "Wg1jIahp3fr7"
      },
      "execution_count": null,
      "outputs": []
    }
  ]
}